{
 "cells": [
  {
   "cell_type": "markdown",
   "metadata": {},
   "source": [
    "# Design Parameters for Figure-Eight Motion via Five-Bar, Geared Linkage"
   ]
  },
  {
   "cell_type": "code",
   "execution_count": 1,
   "metadata": {},
   "outputs": [],
   "source": [
    "import sympy as s\n",
    "import numpy as n\n",
    "import matplotlib\n",
    "import matplotlib.pyplot as p\n",
    "import matplotlib.animation as animation\n",
    "from matplotlib.collections import LineCollection\n",
    "from IPython.display import display\n",
    "\n",
    "%matplotlib inline\n",
    "matplotlib.rcParams['figure.figsize'] = (16.0, 12.0)\n",
    "\n",
    "s.init_printing()"
   ]
  },
  {
   "cell_type": "code",
   "execution_count": 2,
   "metadata": {},
   "outputs": [],
   "source": [
    "t, w, q = s.symbols('t, w, q', real=True)\n",
    "r1, r2, l1, l2, l3, l4 = s.symbols('r1, r2, l1, l2, l3, l4', positive=True)\n",
    "a1 = w*t\n",
    "a2 = -r1/r2*a1 + q"
   ]
  },
  {
   "cell_type": "code",
   "execution_count": 3,
   "metadata": {},
   "outputs": [],
   "source": [
    "A = l1*s.Matrix([s.cos(a1), s.sin(a1)])\n",
    "B = l2*s.Matrix([s.cos(a2), s.sin(a2)]) + s.Matrix([r1+r2,0])\n",
    "AB = B - A\n",
    "L = AB.norm()\n",
    "a3 = s.acos((l3**2-l4**2+L**2)/(2*L*l3)) + s.atan2(AB[1],AB[0])\n",
    "C = A + l3*s.Matrix([s.cos(a3), s.sin(a3)])"
   ]
  },
  {
   "cell_type": "code",
   "execution_count": 4,
   "metadata": {},
   "outputs": [],
   "source": [
    "dC = C.diff(t).doit()\n",
    "speed = dC.norm()"
   ]
  },
  {
   "cell_type": "code",
   "execution_count": 5,
   "metadata": {},
   "outputs": [],
   "source": [
    "R1 = 2.\n",
    "R2 = 2.\n",
    "L1 = 2.\n",
    "L2 = 2.8\n",
    "L3 = 9.\n",
    "L4 = 9.5\n",
    "Q  = s.pi/8\n",
    "W  = 1."
   ]
  },
  {
   "cell_type": "code",
   "execution_count": 6,
   "metadata": {},
   "outputs": [],
   "source": [
    "args = (t,l1,l2,l3,l4,q,w,r1,r2)\n",
    "params = (L1,L2,L3,L4,Q,W,R1,R2)\n",
    "\n",
    "A_ = [ai.subs(zip(args,(t,)+params)) for ai in A]\n",
    "B_ = [bi.subs(zip(args,(t,)+params)) for bi in B]\n",
    "C_ = [ci.subs(zip(args,(t,)+params)) for ci in C]\n",
    "speed_ = speed.subs(zip(args,(t,)+params))\n",
    "\n",
    "A_ = s.lambdify(t,A_,'numpy')\n",
    "B_ = s.lambdify(t,B_,'numpy')\n",
    "C_ = s.lambdify(t,C_,'numpy')\n",
    "speed_ = s.lambdify(t,speed_,'numpy')\n",
    "\n",
    "N = 200\n",
    "t_max = 2*n.pi/W*n.max([1, R2/R1])\n",
    "T = n.linspace(0,t_max,N)"
   ]
  },
  {
   "cell_type": "code",
   "execution_count": 7,
   "metadata": {},
   "outputs": [],
   "source": [
    "path = C_(T)\n",
    "speed_T = speed_(T)\n",
    "\n",
    "points = n.array([path[0],path[1]]).transpose().reshape(-1,1,2)\n",
    "segs = n.concatenate([points[:-1],points[1:]],axis=1)\n",
    "lc = LineCollection(segs, cmap=p.get_cmap('jet'))\n",
    "lc.set_array(speed_T) # color the segments by our parameter\n",
    "lc.set_clim((0, n.max(speed_T)))\n",
    "gears = [p.Circle((0,0),R1,color='c'),p.Circle((R1+R2,0),R2,color='m')]"
   ]
  },
  {
   "cell_type": "code",
   "execution_count": 8,
   "metadata": {},
   "outputs": [],
   "source": [
    "def my_plot(t):\n",
    "    \n",
    "    a = A_(t)\n",
    "    b = B_(t)\n",
    "    c = C_(t)\n",
    "    \n",
    "    fig = p.figure()\n",
    "    ax = p.axes(aspect='equal')\n",
    "    p.title('Path of 5 Linkage Assembly')\n",
    "\n",
    "    ax.add_collection(lc)\n",
    "    p.colorbar(lc, orientation='horizontal');\n",
    "    \n",
    "    ax.add_artist(gears[0])\n",
    "    ax.add_artist(gears[1])\n",
    "\n",
    "    ax.plot([0,a[0],c[0],b[0],R1+R2],[0,a[1],c[1],b[1],0],'bo-');"
   ]
  },
  {
   "cell_type": "code",
   "execution_count": 9,
   "metadata": {},
   "outputs": [
    {
     "data": {
      "image/png": "[encoded data removed]",
      "text/plain": [
       "<matplotlib.figure.Figure at 0x10a3afeb8>"
      ]
     },
     "metadata": {},
     "output_type": "display_data"
    }
   ],
   "source": [
    "my_plot(10)"
   ]
  },
  {
   "cell_type": "code",
   "execution_count": null,
   "metadata": {},
   "outputs": [],
   "source": []
  }
 ],
 "metadata": {
  "kernelspec": {
   "display_name": "Python 3",
   "language": "python",
   "name": "python3"
  },
  "language_info": {
   "codemirror_mode": {
    "name": "ipython",
    "version": 3
   },
   "file_extension": ".py",
   "mimetype": "text/x-python",
   "name": "python",
   "nbconvert_exporter": "python",
   "pygments_lexer": "ipython3",
   "version": "3.6.3"
  }
 },
 "nbformat": 4,
 "nbformat_minor": 1
}
